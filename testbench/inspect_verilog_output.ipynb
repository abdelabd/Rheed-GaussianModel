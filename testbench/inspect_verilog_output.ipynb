{
 "cells": [
  {
   "cell_type": "code",
   "execution_count": 1,
   "metadata": {},
   "outputs": [],
   "source": [
    "import os \n",
    "import numpy as np\n",
    "import matplotlib.pyplot as plt\n",
    "from fxpmath import Fxp"
   ]
  },
  {
   "cell_type": "markdown",
   "metadata": {},
   "source": [
    "NOTE: Must wait for testbench (ModelSim) to end, or else you'll find that both input and output don't agree"
   ]
  },
  {
   "cell_type": "code",
   "execution_count": 2,
   "metadata": {},
   "outputs": [],
   "source": [
    "FP_TOTAL = 16\n",
    "FP_INT = 2\n",
    "IMAGE_SIZE = (100, 160)\n",
    "NUM_BLOBS = 1\n",
    "CROP_BOX_ROWS = 48\n",
    "CROP_BOX_COLS = 48\n",
    "SYSTEMATIC_DATA = True\n",
    "if SYSTEMATIC_DATA:\n",
    "    STRING_INSERT = \"_INDEX\"\n",
    "    VMAX = np.prod(IMAGE_SIZE)\n",
    "    FP_FRAC_TESTBENCH = 0\n",
    "else:\n",
    "    STRING_INSERT = \"\"\n",
    "    VMAX = 1\n",
    "    FP_FRAC_TESTBENCH = FP_TOTAL - FP_INT - 1\n",
    "fpath_tb_image = os.path.join(\"tb_data\", f\"tb_image{STRING_INSERT}_{NUM_BLOBS}crops_{IMAGE_SIZE[0]}x{IMAGE_SIZE[1]}_{CROP_BOX_ROWS}x{CROP_BOX_COLS}_ap_fixed_{FP_TOTAL}_{FP_INT}.bin\")\n",
    "fpath_tb_image_read_in = os.path.join(\"tb_data\", f\"tb_image_READ_IN{STRING_INSERT}_{NUM_BLOBS}crops_{IMAGE_SIZE[0]}x{IMAGE_SIZE[1]}_{CROP_BOX_ROWS}x{CROP_BOX_COLS}_ap_fixed_{FP_TOTAL}_{FP_INT}.bin\")\n",
    "fpath_tb_output = os.path.join(\"tb_data\", f\"OUTPUT{STRING_INSERT}_{NUM_BLOBS}crops_{IMAGE_SIZE[0]}x{IMAGE_SIZE[1]}_{CROP_BOX_ROWS}x{CROP_BOX_COLS}_ap_fixed_{FP_TOTAL}_{FP_INT}.bin\")"
   ]
  },
  {
   "cell_type": "code",
   "execution_count": 3,
   "metadata": {},
   "outputs": [],
   "source": [
    "def float_to_fixed_point(value: float, total_bits: int, fractional_bits: int) -> str:\n",
    "    \"\"\"\n",
    "    Convert a float to a fixed-point binary representation.\n",
    "    \n",
    "    :param value: Float value to convert.\n",
    "    :param total_bits: Total number of bits for the representation.\n",
    "    :param fractional_bits: Number of fractional bits.\n",
    "    :return: Fixed-point binary string.\n",
    "    \"\"\"\n",
    "    scale = 2 ** fractional_bits\n",
    "    fixed_point_value = int(round(value * scale))\n",
    "    \n",
    "    # Handle two's complement representation for negative numbers\n",
    "    if fixed_point_value < 0:\n",
    "        fixed_point_value = (1 << total_bits) + fixed_point_value\n",
    "    \n",
    "    return f\"{fixed_point_value:0{total_bits}b}\"\n",
    "\n",
    "\n",
    "def fixed_point_to_float(binary: str, fractional_bits: int) -> float:\n",
    "    \"\"\"\n",
    "    Convert a fixed-point binary representation to a float.\n",
    "    \n",
    "    :param binary: Fixed-point binary string.\n",
    "    :param fractional_bits: Number of fractional bits.\n",
    "    :return: Float value.\n",
    "    \"\"\"\n",
    "    total_bits = len(binary)\n",
    "    int_value = int(binary, 2)\n",
    "    \n",
    "    # Handle two's complement for negative numbers\n",
    "    if int_value >= (1 << (total_bits - 1)):\n",
    "        int_value -= (1 << total_bits)\n",
    "    \n",
    "    return int_value / (2 ** fractional_bits)\n"
   ]
  },
  {
   "cell_type": "markdown",
   "metadata": {},
   "source": [
    "# Load testbench data \n",
    "\n",
    "from binary"
   ]
  },
  {
   "cell_type": "code",
   "execution_count": 4,
   "metadata": {},
   "outputs": [
    {
     "data": {
      "text/plain": [
       "<matplotlib.image.AxesImage at 0x17f0f67be50>"
      ]
     },
     "execution_count": 4,
     "metadata": {},
     "output_type": "execute_result"
    },
    {
     "data": {
      "image/png": "[encoded data removed]",
      "text/plain": [
       "<Figure size 640x480 with 1 Axes>"
      ]
     },
     "metadata": {},
     "output_type": "display_data"
    }
   ],
   "source": [
    "tb_image = np.zeros(np.prod(IMAGE_SIZE), dtype=np.float32)\n",
    "with open(fpath_tb_image, 'rb') as f:\n",
    "\n",
    "    for i, line in enumerate(f.readlines()):\n",
    "        \n",
    "        line = line.decode(\"utf-8\")\n",
    "        line = line.replace(\"\\n\", \"\").replace(\"b'\", \"\")\n",
    "\n",
    "        x = fixed_point_to_float(line, FP_FRAC_TESTBENCH)\n",
    "        tb_image[i] = x\n",
    "\n",
    "tb_image = tb_image.reshape(IMAGE_SIZE)\n",
    "plt.imshow(tb_image,  vmin=0, vmax=VMAX)"
   ]
  },
  {
   "cell_type": "code",
   "execution_count": 5,
   "metadata": {},
   "outputs": [
    {
     "name": "stdout",
     "output_type": "stream",
     "text": [
      "7999.034\n"
     ]
    }
   ],
   "source": [
    "tb_image_float = np.load(f\"tb_data/tb_image_{NUM_BLOBS}crops_{IMAGE_SIZE[0]}x{IMAGE_SIZE[1]}_{CROP_BOX_ROWS}x{CROP_BOX_COLS}_float32.npy\")\n",
    "print(np.mean(np.abs(tb_image - tb_image_float)))"
   ]
  },
  {
   "cell_type": "markdown",
   "metadata": {},
   "source": [
    "# Load the data that was read by verilog module"
   ]
  },
  {
   "cell_type": "code",
   "execution_count": 8,
   "metadata": {},
   "outputs": [
    {
     "name": "stdout",
     "output_type": "stream",
     "text": [
      "n_x_read: 2\n"
     ]
    },
    {
     "data": {
      "image/png": "[encoded data removed]",
      "text/plain": [
       "<Figure size 640x480 with 1 Axes>"
      ]
     },
     "metadata": {},
     "output_type": "display_data"
    }
   ],
   "source": [
    "n_x_read = 0\n",
    "dest_idx = 0\n",
    "tb_image_read_in = np.zeros(np.prod(IMAGE_SIZE), dtype=np.float32)\n",
    "with open(fpath_tb_image_read_in, 'rb') as f:\n",
    "    for i, line in enumerate(f.readlines()):\n",
    "\n",
    "        line = line.decode(\"utf-8\")\n",
    "        if \"x\" in line:\n",
    "            n_x_read += 1\n",
    "            continue\n",
    "        line = line.replace(\"\\n\", \"\").replace(\"b'\", \"\")\n",
    "        \n",
    "        x = fixed_point_to_float(line, FP_FRAC_TESTBENCH)\n",
    "        tb_image_read_in[dest_idx] = x\n",
    "        dest_idx += 1\n",
    "\n",
    "tb_image_read_in = tb_image_read_in.reshape(IMAGE_SIZE)\n",
    "plt.imshow(tb_image_read_in,  vmin=0, vmax=VMAX)\n",
    "print(f\"n_x_read: {n_x_read}\")"
   ]
  },
  {
   "cell_type": "code",
   "execution_count": 9,
   "metadata": {},
   "outputs": [
    {
     "name": "stdout",
     "output_type": "stream",
     "text": [
      "0.0\n",
      "16000\n"
     ]
    }
   ],
   "source": [
    "print(np.max(np.abs(tb_image - tb_image_read_in)))\n",
    "print(np.sum(tb_image==tb_image_read_in))"
   ]
  },
  {
   "cell_type": "markdown",
   "metadata": {},
   "source": [
    "Beautiful - so we're reading in the data correctly. "
   ]
  },
  {
   "cell_type": "markdown",
   "metadata": {},
   "source": [
    "# Load the keras prediction"
   ]
  },
  {
   "cell_type": "code",
   "execution_count": 10,
   "metadata": {},
   "outputs": [
    {
     "name": "stdout",
     "output_type": "stream",
     "text": [
      "[ -4018.2568   5364.4214 -10249.749   16671.016   13929.761 ]\n",
      "[ -4018.   5364. -10250.  16671.  13930.]\n"
     ]
    }
   ],
   "source": [
    "fpath_keras_pred_float = os.path.join(\"tb_data\", f\"keras_pred{STRING_INSERT}_{NUM_BLOBS}crops_in{IMAGE_SIZE[0]}x{IMAGE_SIZE[1]}_out{CROP_BOX_ROWS}x{CROP_BOX_COLS}.npy\")\n",
    "fpath_keras_pred_ap_fixed = os.path.join(\"tb_data\", f\"keras_pred{STRING_INSERT}_{NUM_BLOBS}crops_in{IMAGE_SIZE[0]}x{IMAGE_SIZE[1]}_out{CROP_BOX_ROWS}x{CROP_BOX_COLS}_ap_fixed_{FP_TOTAL}_{FP_INT}.bin\")\n",
    "\n",
    "keras_pred_float = np.load(fpath_keras_pred_float)\n",
    "keras_pred_ap_fixed = np.zeros_like(keras_pred_float)\n",
    "with open(fpath_keras_pred_ap_fixed, 'rb') as f:\n",
    "    for i, line in enumerate(f.readlines()):\n",
    "        \n",
    "        line = line.decode(\"utf-8\")\n",
    "        line = line.replace(\"\\n\", \"\").replace(\"b'\", \"\")\n",
    "        \n",
    "        x = fixed_point_to_float(line, FP_FRAC_TESTBENCH)\n",
    "        keras_pred_ap_fixed[i] = x\n",
    "\n",
    "print(keras_pred_float)\n",
    "print(keras_pred_ap_fixed)"
   ]
  },
  {
   "cell_type": "markdown",
   "metadata": {},
   "source": [
    "# Load the HLS prediction"
   ]
  },
  {
   "cell_type": "code",
   "execution_count": 11,
   "metadata": {},
   "outputs": [
    {
     "name": "stdout",
     "output_type": "stream",
     "text": [
      "[-0.23492432  0.3166504  -0.5534668   0.36657715  1.0744019 ]\n",
      "[ 0.  0. -1.  0.  1.]\n"
     ]
    }
   ],
   "source": [
    "fpath_hls_pred_float = os.path.join(\"tb_data\", f\"hls_model_pred{STRING_INSERT}_{NUM_BLOBS}crops_in{IMAGE_SIZE[0]}x{IMAGE_SIZE[1]}_out{CROP_BOX_ROWS}x{CROP_BOX_COLS}.npy\")\n",
    "fpath_hls_pred_ap_fixed = os.path.join(\"tb_data\", f\"hls_model_pred{STRING_INSERT}_{NUM_BLOBS}crops_in{IMAGE_SIZE[0]}x{IMAGE_SIZE[1]}_out{CROP_BOX_ROWS}x{CROP_BOX_COLS}_RF32_ap_fixed_{FP_TOTAL}_{FP_INT}.bin\")\n",
    "\n",
    "hls_pred_float = np.load(fpath_hls_pred_float)\n",
    "hls_pred_ap_fixed = np.zeros(hls_pred_float.shape, dtype=np.float32)\n",
    "with open(fpath_hls_pred_ap_fixed, \"rb\") as f:\n",
    "    for i, line in enumerate(f.readlines()):\n",
    "        \n",
    "        line = line.decode(\"utf-8\")\n",
    "        line = line.replace(\"\\n\", \"\").replace(\"b'\", \"\")\n",
    "        \n",
    "        x = fixed_point_to_float(line, FP_FRAC_TESTBENCH)\n",
    "        hls_pred_ap_fixed[i] = x\n",
    "\n",
    "print(hls_pred_float)\n",
    "print(hls_pred_ap_fixed)"
   ]
  },
  {
   "cell_type": "markdown",
   "metadata": {},
   "source": [
    "NOTE: For systematic data (or any data where values not limited to [-1,1]), don't expect HLS to match Keras. HLS might have bit overflow."
   ]
  },
  {
   "cell_type": "markdown",
   "metadata": {},
   "source": [
    "# Load the Verilog prediction"
   ]
  },
  {
   "cell_type": "code",
   "execution_count": 15,
   "metadata": {},
   "outputs": [
    {
     "name": "stdout",
     "output_type": "stream",
     "text": [
      "[ -4031.   5611. -11158.  17750.  14842.]\n"
     ]
    }
   ],
   "source": [
    "tb_output = np.zeros((5,), dtype=np.float32)\n",
    "with open(fpath_tb_output, 'rb') as f:\n",
    "    for i, line in enumerate(f.readlines()):\n",
    "\n",
    "        line = line.decode(\"utf-8\")\n",
    "        line = line.replace(\"\\n\", \"\").replace(\"b'\", \"\")\n",
    "        x = fixed_point_to_float(line, FP_FRAC_TESTBENCH)\n",
    "        tb_output[i] = x\n",
    "\n",
    "print(tb_output)"
   ]
  }
 ],
 "metadata": {
  "kernelspec": {
   "display_name": "rheed",
   "language": "python",
   "name": "python3"
  },
  "language_info": {
   "codemirror_mode": {
    "name": "ipython",
    "version": 3
   },
   "file_extension": ".py",
   "mimetype": "text/x-python",
   "name": "python",
   "nbconvert_exporter": "python",
   "pygments_lexer": "ipython3",
   "version": "3.11.9"
  }
 },
 "nbformat": 4,
 "nbformat_minor": 2
}
